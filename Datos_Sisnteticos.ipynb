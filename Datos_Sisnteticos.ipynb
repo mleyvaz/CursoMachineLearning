{
  "nbformat": 4,
  "nbformat_minor": 0,
  "metadata": {
    "colab": {
      "name": "Datos Sisnteticos",
      "provenance": [],
      "authorship_tag": "ABX9TyOK2YTRMR3947Ktr7GB8PZv",
      "include_colab_link": true
    },
    "kernelspec": {
      "name": "python3",
      "display_name": "Python 3"
    },
    "language_info": {
      "name": "python"
    }
  },
  "cells": [
    {
      "cell_type": "markdown",
      "metadata": {
        "id": "view-in-github",
        "colab_type": "text"
      },
      "source": [
        "<a href=\"https://colab.research.google.com/github/mleyvaz/CursoMachineLearning/blob/main/Datos_Sisnteticos.ipynb\" target=\"_parent\"><img src=\"https://colab.research.google.com/assets/colab-badge.svg\" alt=\"Open In Colab\"/></a>"
      ]
    },
    {
      "cell_type": "code",
      "metadata": {
        "colab": {
          "base_uri": "https://localhost:8080/",
          "height": 1000
        },
        "id": "jfJYEEmnEuRt",
        "outputId": "973f5ea0-01ff-49fe-a79f-48433ffc45eb"
      },
      "source": [
        "pip install sdv"
      ],
      "execution_count": 3,
      "outputs": [
        {
          "output_type": "stream",
          "name": "stdout",
          "text": [
            "Collecting sdv\n",
            "  Downloading sdv-0.12.0-py2.py3-none-any.whl (88 kB)\n",
            "\u001b[K     |████████████████████████████████| 88 kB 3.8 MB/s \n",
            "\u001b[?25hCollecting sdmetrics<0.4,>=0.3.1\n",
            "  Downloading sdmetrics-0.3.2-py2.py3-none-any.whl (95 kB)\n",
            "\u001b[K     |████████████████████████████████| 95 kB 4.3 MB/s \n",
            "\u001b[?25hCollecting deepecho<0.3,>=0.2.0\n",
            "  Downloading deepecho-0.2.0-py2.py3-none-any.whl (26 kB)\n",
            "Requirement already satisfied: torch<2,>=1.4 in /usr/local/lib/python3.7/dist-packages (from sdv) (1.9.0+cu102)\n",
            "Collecting pandas<1.1.5,>=1.1\n",
            "  Downloading pandas-1.1.4-cp37-cp37m-manylinux1_x86_64.whl (9.5 MB)\n",
            "\u001b[K     |████████████████████████████████| 9.5 MB 59.0 MB/s \n",
            "\u001b[?25hRequirement already satisfied: tqdm<5,>=4.14 in /usr/local/lib/python3.7/dist-packages (from sdv) (4.62.0)\n",
            "Collecting ctgan<0.5,>=0.4.3\n",
            "  Downloading ctgan-0.4.3-py2.py3-none-any.whl (21 kB)\n",
            "Collecting graphviz<1,>=0.13.2\n",
            "  Downloading graphviz-0.17-py3-none-any.whl (18 kB)\n",
            "Collecting rdt<0.6,>=0.5.0\n",
            "  Downloading rdt-0.5.2-py2.py3-none-any.whl (23 kB)\n",
            "Requirement already satisfied: torchvision<1,>=0.5.0 in /usr/local/lib/python3.7/dist-packages (from sdv) (0.10.0+cu102)\n",
            "Collecting sktime<0.6,>=0.4\n",
            "  Downloading sktime-0.5.3-cp37-cp37m-manylinux2014_x86_64.whl (5.7 MB)\n",
            "\u001b[K     |████████████████████████████████| 5.7 MB 22.8 MB/s \n",
            "\u001b[?25hRequirement already satisfied: numpy<2,>=1.18.0 in /usr/local/lib/python3.7/dist-packages (from sdv) (1.19.5)\n",
            "Collecting copulas<0.6,>=0.5.0\n",
            "  Downloading copulas-0.5.1-py2.py3-none-any.whl (50 kB)\n",
            "\u001b[K     |████████████████████████████████| 50 kB 5.6 MB/s \n",
            "\u001b[?25hCollecting pomegranate<0.14.2,>=0.13.4\n",
            "  Downloading pomegranate-0.14.1-cp37-cp37m-manylinux2010_x86_64.whl (17.9 MB)\n",
            "\u001b[K     |████████████████████████████████| 17.9 MB 147 kB/s \n",
            "\u001b[?25hCollecting Faker<4.15,>=1.0.1\n",
            "  Downloading Faker-4.14.2-py3-none-any.whl (1.1 MB)\n",
            "\u001b[K     |████████████████████████████████| 1.1 MB 37.3 MB/s \n",
            "\u001b[?25hRequirement already satisfied: matplotlib<4,>=3.2.0 in /usr/local/lib/python3.7/dist-packages (from copulas<0.6,>=0.5.0->sdv) (3.2.2)\n",
            "Requirement already satisfied: scipy<2,>=1.4.1 in /usr/local/lib/python3.7/dist-packages (from copulas<0.6,>=0.5.0->sdv) (1.4.1)\n",
            "Collecting scikit-learn<1,>=0.23\n",
            "  Downloading scikit_learn-0.24.2-cp37-cp37m-manylinux2010_x86_64.whl (22.3 MB)\n",
            "\u001b[K     |████████████████████████████████| 22.3 MB 8.8 MB/s \n",
            "\u001b[?25hRequirement already satisfied: packaging in /usr/local/lib/python3.7/dist-packages (from ctgan<0.5,>=0.4.3->sdv) (21.0)\n",
            "Requirement already satisfied: python-dateutil>=2.4 in /usr/local/lib/python3.7/dist-packages (from Faker<4.15,>=1.0.1->sdv) (2.8.2)\n",
            "Requirement already satisfied: text-unidecode==1.3 in /usr/local/lib/python3.7/dist-packages (from Faker<4.15,>=1.0.1->sdv) (1.3)\n",
            "Requirement already satisfied: cycler>=0.10 in /usr/local/lib/python3.7/dist-packages (from matplotlib<4,>=3.2.0->copulas<0.6,>=0.5.0->sdv) (0.10.0)\n",
            "Requirement already satisfied: kiwisolver>=1.0.1 in /usr/local/lib/python3.7/dist-packages (from matplotlib<4,>=3.2.0->copulas<0.6,>=0.5.0->sdv) (1.3.1)\n",
            "Requirement already satisfied: pyparsing!=2.0.4,!=2.1.2,!=2.1.6,>=2.0.1 in /usr/local/lib/python3.7/dist-packages (from matplotlib<4,>=3.2.0->copulas<0.6,>=0.5.0->sdv) (2.4.7)\n",
            "Requirement already satisfied: six in /usr/local/lib/python3.7/dist-packages (from cycler>=0.10->matplotlib<4,>=3.2.0->copulas<0.6,>=0.5.0->sdv) (1.15.0)\n",
            "Requirement already satisfied: pytz>=2017.2 in /usr/local/lib/python3.7/dist-packages (from pandas<1.1.5,>=1.1->sdv) (2018.9)\n",
            "Requirement already satisfied: networkx>=2.0 in /usr/local/lib/python3.7/dist-packages (from pomegranate<0.14.2,>=0.13.4->sdv) (2.6.2)\n",
            "Requirement already satisfied: joblib>=0.9.0b4 in /usr/local/lib/python3.7/dist-packages (from pomegranate<0.14.2,>=0.13.4->sdv) (1.0.1)\n",
            "Requirement already satisfied: pyyaml in /usr/local/lib/python3.7/dist-packages (from pomegranate<0.14.2,>=0.13.4->sdv) (3.13)\n",
            "Collecting psutil<6,>=5.7\n",
            "  Downloading psutil-5.8.0-cp37-cp37m-manylinux2010_x86_64.whl (296 kB)\n",
            "\u001b[K     |████████████████████████████████| 296 kB 60.2 MB/s \n",
            "\u001b[?25hCollecting threadpoolctl>=2.0.0\n",
            "  Downloading threadpoolctl-2.2.0-py3-none-any.whl (12 kB)\n",
            "Requirement already satisfied: wheel in /usr/local/lib/python3.7/dist-packages (from sktime<0.6,>=0.4->sdv) (0.37.0)\n",
            "Requirement already satisfied: numba>=0.50 in /usr/local/lib/python3.7/dist-packages (from sktime<0.6,>=0.4->sdv) (0.51.2)\n",
            "Collecting statsmodels>=0.12.1\n",
            "  Downloading statsmodels-0.12.2-cp37-cp37m-manylinux1_x86_64.whl (9.5 MB)\n",
            "\u001b[K     |████████████████████████████████| 9.5 MB 35.2 MB/s \n",
            "\u001b[?25hRequirement already satisfied: llvmlite<0.35,>=0.34.0.dev0 in /usr/local/lib/python3.7/dist-packages (from numba>=0.50->sktime<0.6,>=0.4->sdv) (0.34.0)\n",
            "Requirement already satisfied: setuptools in /usr/local/lib/python3.7/dist-packages (from numba>=0.50->sktime<0.6,>=0.4->sdv) (57.4.0)\n",
            "Requirement already satisfied: patsy>=0.5 in /usr/local/lib/python3.7/dist-packages (from statsmodels>=0.12.1->sktime<0.6,>=0.4->sdv) (0.5.1)\n",
            "Requirement already satisfied: typing-extensions in /usr/local/lib/python3.7/dist-packages (from torch<2,>=1.4->sdv) (3.7.4.3)\n",
            "Requirement already satisfied: pillow>=5.3.0 in /usr/local/lib/python3.7/dist-packages (from torchvision<1,>=0.5.0->sdv) (7.1.2)\n",
            "Installing collected packages: threadpoolctl, pandas, statsmodels, scikit-learn, psutil, sktime, rdt, copulas, sdmetrics, pomegranate, graphviz, Faker, deepecho, ctgan, sdv\n",
            "  Attempting uninstall: pandas\n",
            "    Found existing installation: pandas 1.1.5\n",
            "    Uninstalling pandas-1.1.5:\n",
            "      Successfully uninstalled pandas-1.1.5\n",
            "  Attempting uninstall: statsmodels\n",
            "    Found existing installation: statsmodels 0.10.2\n",
            "    Uninstalling statsmodels-0.10.2:\n",
            "      Successfully uninstalled statsmodels-0.10.2\n",
            "  Attempting uninstall: scikit-learn\n",
            "    Found existing installation: scikit-learn 0.22.2.post1\n",
            "    Uninstalling scikit-learn-0.22.2.post1:\n",
            "      Successfully uninstalled scikit-learn-0.22.2.post1\n",
            "  Attempting uninstall: psutil\n",
            "    Found existing installation: psutil 5.4.8\n",
            "    Uninstalling psutil-5.4.8:\n",
            "      Successfully uninstalled psutil-5.4.8\n",
            "  Attempting uninstall: graphviz\n",
            "    Found existing installation: graphviz 0.10.1\n",
            "    Uninstalling graphviz-0.10.1:\n",
            "      Successfully uninstalled graphviz-0.10.1\n",
            "Successfully installed Faker-4.14.2 copulas-0.5.1 ctgan-0.4.3 deepecho-0.2.0 graphviz-0.17 pandas-1.1.4 pomegranate-0.14.1 psutil-5.8.0 rdt-0.5.2 scikit-learn-0.24.2 sdmetrics-0.3.2 sdv-0.12.0 sktime-0.5.3 statsmodels-0.12.2 threadpoolctl-2.2.0\n"
          ]
        },
        {
          "output_type": "display_data",
          "data": {
            "application/vnd.colab-display-data+json": {
              "pip_warning": {
                "packages": [
                  "pandas",
                  "psutil"
                ]
              }
            }
          },
          "metadata": {}
        }
      ]
    },
    {
      "cell_type": "code",
      "metadata": {
        "colab": {
          "base_uri": "https://localhost:8080/"
        },
        "id": "mCv74AnV_TtB",
        "outputId": "a750cbdf-b445-426d-8999-ee90d0dcb3eb"
      },
      "source": [
        "from sdv import load_demo, SDV\n",
        "\n",
        "# Use pre-loaded demo tables\n",
        "metadata, tables = load_demo(metadata=True)\n",
        "\n",
        "sdv = SDV()\n",
        "sdv.fit(metadata, tables)\n",
        "\n",
        "synthetic_data = sdv.sample()\n",
        "print(synthetic_data)"
      ],
      "execution_count": 4,
      "outputs": [
        {
          "output_type": "stream",
          "name": "stdout",
          "text": [
            "{'users':    user_id country gender  age\n",
            "0        0      BG    NaN   56\n",
            "1        1      DE      M   24\n",
            "2        2      US      M   50\n",
            "3        3      ES      F   61\n",
            "4        4      ES      M   26\n",
            "5        5      US      M   40\n",
            "6        6      UK      F   38\n",
            "7        7      BG      M   44\n",
            "8        8      ES    NaN   34\n",
            "9        9      US      F   26, 'sessions':    session_id  user_id  device       os  minutes\n",
            "0           0        2  tablet  android       16\n",
            "1           1        2  mobile  android       10\n",
            "2           2        3  mobile      ios        1\n",
            "3           3        4  mobile  android       16\n",
            "4           4        5  mobile  android       17\n",
            "5           5        5  mobile  android       19\n",
            "6           6        6  mobile      ios        3\n",
            "7           7        7  mobile  android       26\n",
            "8           8        8  mobile      ios       23\n",
            "9           9        9  tablet      ios       16, 'transactions':     transaction_id  session_id           timestamp      amount  cancelled\n",
            "0                0           0 2019-01-09 08:50:42  163.044354       True\n",
            "1                1           1 2019-01-09 19:46:33   96.224705      False\n",
            "2                2           3 2019-01-14 01:50:34   72.957277      False\n",
            "3                3           3 2019-01-14 03:25:52   67.819556      False\n",
            "4                4           4 2019-01-09 03:52:52   51.266836      False\n",
            "5                5           5 2019-01-08 18:42:35   73.555801       True\n",
            "6                6           5 2019-01-08 19:06:37   35.707618       True\n",
            "7                7           7 2019-01-14 00:38:15  105.459084       True\n",
            "8                8           7 2019-01-13 08:05:29  109.815612       True\n",
            "9                9           8 2019-01-14 00:12:53  156.409162      False\n",
            "10              10           9 2019-01-10 12:28:55  121.269352      False\n",
            "11              11           9 2019-01-09 23:31:41  113.830614      False}\n"
          ]
        }
      ]
    }
  ]
}